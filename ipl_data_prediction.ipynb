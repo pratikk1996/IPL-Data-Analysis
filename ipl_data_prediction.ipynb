{
 "cells": [
  {
   "cell_type": "code",
   "execution_count": 2,
   "metadata": {},
   "outputs": [],
   "source": [
    "# importing libraries\n",
    "import pandas as pd\n",
    "import numpy as np\n",
    "import matplotlib.pyplot as plt\n",
    "import seaborn as sns\n",
    "from sklearn.preprocessing import LabelEncoder\n",
    "from sklearn import metrics\n",
    "from sklearn.ensemble import RandomForestClassifier\n",
    "from sklearn.linear_model import LogisticRegression\n",
    "from sklearn.neighbors import KNeighborsClassifier\n",
    "from sklearn.model_selection import train_test_split\n",
    "from sklearn.model_selection import StratifiedKFold \n",
    "from imblearn.over_sampling import SMOTE\n",
    "from sklearn.feature_selection import RFE\n",
    "from sklearn.preprocessing import StandardScaler\n",
    "from sklearn.svm import SVC\n",
    "from sklearn.tree import DecisionTreeClassifier\n",
    "from sklearn.utils import resample\n",
    "import statistics \n",
    "from sklearn.metrics import confusion_matrix, classification_report, accuracy_score, recall_score"
   ]
  },
  {
   "cell_type": "code",
   "execution_count": 3,
   "metadata": {},
   "outputs": [
    {
     "data": {
      "text/html": [
       "<div>\n",
       "<style scoped>\n",
       "    .dataframe tbody tr th:only-of-type {\n",
       "        vertical-align: middle;\n",
       "    }\n",
       "\n",
       "    .dataframe tbody tr th {\n",
       "        vertical-align: top;\n",
       "    }\n",
       "\n",
       "    .dataframe thead th {\n",
       "        text-align: right;\n",
       "    }\n",
       "</style>\n",
       "<table border=\"1\" class=\"dataframe\">\n",
       "  <thead>\n",
       "    <tr style=\"text-align: right;\">\n",
       "      <th></th>\n",
       "      <th>team1</th>\n",
       "      <th>team2</th>\n",
       "      <th>team1_toss_win</th>\n",
       "      <th>team1_bat</th>\n",
       "      <th>team1_win</th>\n",
       "      <th>venue</th>\n",
       "    </tr>\n",
       "  </thead>\n",
       "  <tbody>\n",
       "    <tr>\n",
       "      <th>0</th>\n",
       "      <td>13</td>\n",
       "      <td>12</td>\n",
       "      <td>0.0</td>\n",
       "      <td>0</td>\n",
       "      <td>0.0</td>\n",
       "      <td>28</td>\n",
       "    </tr>\n",
       "    <tr>\n",
       "      <th>1</th>\n",
       "      <td>8</td>\n",
       "      <td>11</td>\n",
       "      <td>0.0</td>\n",
       "      <td>0</td>\n",
       "      <td>0.0</td>\n",
       "      <td>21</td>\n",
       "    </tr>\n",
       "    <tr>\n",
       "      <th>2</th>\n",
       "      <td>4</td>\n",
       "      <td>7</td>\n",
       "      <td>0.0</td>\n",
       "      <td>0</td>\n",
       "      <td>0.0</td>\n",
       "      <td>31</td>\n",
       "    </tr>\n",
       "    <tr>\n",
       "      <th>3</th>\n",
       "      <td>11</td>\n",
       "      <td>5</td>\n",
       "      <td>0.0</td>\n",
       "      <td>0</td>\n",
       "      <td>0.0</td>\n",
       "      <td>13</td>\n",
       "    </tr>\n",
       "    <tr>\n",
       "      <th>4</th>\n",
       "      <td>12</td>\n",
       "      <td>3</td>\n",
       "      <td>1.0</td>\n",
       "      <td>1</td>\n",
       "      <td>0.0</td>\n",
       "      <td>17</td>\n",
       "    </tr>\n",
       "  </tbody>\n",
       "</table>\n",
       "</div>"
      ],
      "text/plain": [
       "   team1  team2  team1_toss_win  team1_bat  team1_win  venue\n",
       "0     13     12             0.0          0        0.0     28\n",
       "1      8     11             0.0          0        0.0     21\n",
       "2      4      7             0.0          0        0.0     31\n",
       "3     11      5             0.0          0        0.0     13\n",
       "4     12      3             1.0          1        0.0     17"
      ]
     },
     "execution_count": 3,
     "metadata": {},
     "output_type": "execute_result"
    }
   ],
   "source": [
    "# reading the cleaned dataset csv\n",
    "prediction_df= pd.read_csv('prediction_df.csv')\n",
    "prediction_df=prediction_df[[\"team1\",\"team2\",\"team1_toss_win\",\"team1_bat\",\"team1_win\",\"venue\"]]\n",
    "prediction_df.head()"
   ]
  },
  {
   "cell_type": "code",
   "execution_count": 4,
   "metadata": {},
   "outputs": [
    {
     "name": "stdout",
     "output_type": "stream",
     "text": [
      "                   team1     team2  team1_toss_win  team1_bat     venue\n",
      "team1           1.000000 -0.107006       -0.119418  -0.119418  0.108539\n",
      "team2          -0.107006  1.000000       -0.010893  -0.010893  0.081898\n",
      "team1_toss_win -0.119418 -0.010893        1.000000   1.000000  0.049083\n",
      "team1_bat      -0.119418 -0.010893        1.000000   1.000000  0.049083\n",
      "venue           0.108539  0.081898        0.049083   0.049083  1.000000\n"
     ]
    },
    {
     "data": {
      "text/html": [
       "<div>\n",
       "<style scoped>\n",
       "    .dataframe tbody tr th:only-of-type {\n",
       "        vertical-align: middle;\n",
       "    }\n",
       "\n",
       "    .dataframe tbody tr th {\n",
       "        vertical-align: top;\n",
       "    }\n",
       "\n",
       "    .dataframe thead th {\n",
       "        text-align: right;\n",
       "    }\n",
       "</style>\n",
       "<table border=\"1\" class=\"dataframe\">\n",
       "  <thead>\n",
       "    <tr style=\"text-align: right;\">\n",
       "      <th></th>\n",
       "      <th>team1</th>\n",
       "      <th>team2</th>\n",
       "      <th>team1_toss_win</th>\n",
       "      <th>team1_win</th>\n",
       "      <th>venue</th>\n",
       "    </tr>\n",
       "  </thead>\n",
       "  <tbody>\n",
       "    <tr>\n",
       "      <th>0</th>\n",
       "      <td>13</td>\n",
       "      <td>12</td>\n",
       "      <td>0.0</td>\n",
       "      <td>0.0</td>\n",
       "      <td>28</td>\n",
       "    </tr>\n",
       "    <tr>\n",
       "      <th>1</th>\n",
       "      <td>8</td>\n",
       "      <td>11</td>\n",
       "      <td>0.0</td>\n",
       "      <td>0.0</td>\n",
       "      <td>21</td>\n",
       "    </tr>\n",
       "    <tr>\n",
       "      <th>2</th>\n",
       "      <td>4</td>\n",
       "      <td>7</td>\n",
       "      <td>0.0</td>\n",
       "      <td>0.0</td>\n",
       "      <td>31</td>\n",
       "    </tr>\n",
       "    <tr>\n",
       "      <th>3</th>\n",
       "      <td>11</td>\n",
       "      <td>5</td>\n",
       "      <td>0.0</td>\n",
       "      <td>0.0</td>\n",
       "      <td>13</td>\n",
       "    </tr>\n",
       "    <tr>\n",
       "      <th>4</th>\n",
       "      <td>12</td>\n",
       "      <td>3</td>\n",
       "      <td>1.0</td>\n",
       "      <td>0.0</td>\n",
       "      <td>17</td>\n",
       "    </tr>\n",
       "  </tbody>\n",
       "</table>\n",
       "</div>"
      ],
      "text/plain": [
       "   team1  team2  team1_toss_win  team1_win  venue\n",
       "0     13     12             0.0        0.0     28\n",
       "1      8     11             0.0        0.0     21\n",
       "2      4      7             0.0        0.0     31\n",
       "3     11      5             0.0        0.0     13\n",
       "4     12      3             1.0        0.0     17"
      ]
     },
     "execution_count": 4,
     "metadata": {},
     "output_type": "execute_result"
    }
   ],
   "source": [
    "# dropping higly correlated features\n",
    "correlated_features = set()\n",
    "correlation_matrix = prediction_df.drop('team1_win', axis=1).corr()\n",
    "print(correlation_matrix)\n",
    "for i in range(len(correlation_matrix.columns)):\n",
    "    for j in range(i):\n",
    "        if abs(correlation_matrix.iloc[i, j]) > 0.8:\n",
    "            colname = correlation_matrix.columns[i]\n",
    "            correlated_features.add(colname)\n",
    "            \n",
    "prediction_df.drop(columns=correlated_features).head() "
   ]
  },
  {
   "cell_type": "code",
   "execution_count": 5,
   "metadata": {},
   "outputs": [],
   "source": [
    "# setting the features and target columns\n",
    "X = prediction_df.drop('team1_win', axis=1)\n",
    "y = prediction_df['team1_win']\n",
    "y=y.astype(int)"
   ]
  },
  {
   "cell_type": "code",
   "execution_count": 6,
   "metadata": {},
   "outputs": [
    {
     "name": "stdout",
     "output_type": "stream",
     "text": [
      "[ True  True  True  True  True]\n"
     ]
    }
   ],
   "source": [
    "#Checking for the features if they are important\n",
    "\n",
    "logReg=LogisticRegression(solver='lbfgs')\n",
    "rfe = RFE(logReg, 20)\n",
    "rfe = rfe.fit(X, y.values.ravel())\n",
    "print(rfe.support_)"
   ]
  },
  {
   "cell_type": "code",
   "execution_count": 7,
   "metadata": {},
   "outputs": [
    {
     "data": {
      "text/plain": [
       "0.0    646\n",
       "1.0    110\n",
       "Name: team1_win, dtype: int64"
      ]
     },
     "execution_count": 7,
     "metadata": {},
     "output_type": "execute_result"
    }
   ],
   "source": [
    "prediction_df['team1_win'].value_counts()"
   ]
  },
  {
   "cell_type": "code",
   "execution_count": 19,
   "metadata": {},
   "outputs": [
    {
     "data": {
      "image/png": "[encoded data removed]",
      "text/plain": [
       "<Figure size 432x288 with 1 Axes>"
      ]
     },
     "metadata": {
      "needs_background": "light"
     },
     "output_type": "display_data"
    }
   ],
   "source": [
    "sns.countplot(y_train)\n",
    "plt.show()"
   ]
  },
  {
   "cell_type": "code",
   "execution_count": 8,
   "metadata": {},
   "outputs": [],
   "source": [
    "# Split into training and test sets Percentage Split\n",
    "X_train, X_test, y_train, y_test = train_test_split(X, y, test_size = 0.25, random_state=0)"
   ]
  },
  {
   "cell_type": "code",
   "execution_count": 9,
   "metadata": {},
   "outputs": [],
   "source": [
    "sm= SMOTE()"
   ]
  },
  {
   "cell_type": "code",
   "execution_count": 10,
   "metadata": {},
   "outputs": [],
   "source": [
    "smote_x_train, smote_y_train = sm.fit_sample(X_train.astype('float'), y_train)"
   ]
  },
  {
   "cell_type": "code",
   "execution_count": 17,
   "metadata": {},
   "outputs": [
    {
     "name": "stdout",
     "output_type": "stream",
     "text": [
      "Before SMOTE :  Counter({0: 489, 1: 78})\n",
      "After SMOTE :  Counter({0: 489, 1: 489})\n"
     ]
    }
   ],
   "source": [
    "from collections import Counter\n",
    "print('Before SMOTE : ', Counter(y_train))\n",
    "print('After SMOTE : ', Counter(smote_y_train))"
   ]
  },
  {
   "cell_type": "code",
   "execution_count": 18,
   "metadata": {},
   "outputs": [
    {
     "data": {
      "image/png": "[encoded data removed]",
      "text/plain": [
       "<Figure size 432x288 with 1 Axes>"
      ]
     },
     "metadata": {
      "needs_background": "light"
     },
     "output_type": "display_data"
    }
   ],
   "source": [
    "sns.countplot(smote_y_train)\n",
    "plt.show()"
   ]
  },
  {
   "cell_type": "code",
   "execution_count": 31,
   "metadata": {},
   "outputs": [
    {
     "name": "stdout",
     "output_type": "stream",
     "text": [
      "ACCURACY SCORES \n",
      "\n",
      "\n",
      "Logistic Regression :-\n",
      "\n",
      "\n",
      "%split : 83.60% \n",
      "\n",
      "%split-Smote : 84.56% \n",
      "\n",
      "Before and After Resampling \n",
      "\n",
      "              precision    recall  f1-score   support\n",
      "\n",
      "           0       0.93      0.88      0.90       166\n",
      "           1       0.38      0.52      0.44        23\n",
      "\n",
      "    accuracy                           0.84       189\n",
      "   macro avg       0.65      0.70      0.67       189\n",
      "weighted avg       0.86      0.84      0.85       189\n",
      "\n",
      "              precision    recall  f1-score   support\n",
      "\n",
      "           0       0.77      0.95      0.85       127\n",
      "           1       0.81      0.42      0.55        62\n",
      "\n",
      "    accuracy                           0.78       189\n",
      "   macro avg       0.79      0.69      0.70       189\n",
      "weighted avg       0.78      0.78      0.75       189\n",
      "\n",
      "SKFold : 83.60% \n",
      "\n",
      "SKFold-Smote : 78.13% \n",
      "----------------------------------------------------------------------\n",
      "\n",
      "\n",
      "RandomForestClassifier :-\n",
      "\n",
      "\n",
      "%split : 82.01% \n",
      "\n",
      "%split-Smote : 98.67% \n",
      "\n",
      "Before and After Resampling \n",
      "\n",
      "              precision    recall  f1-score   support\n",
      "\n",
      "           0       0.91      0.89      0.90       161\n",
      "           1       0.44      0.50      0.47        28\n",
      "\n",
      "    accuracy                           0.83       189\n",
      "   macro avg       0.67      0.69      0.68       189\n",
      "weighted avg       0.84      0.83      0.84       189\n",
      "\n",
      "              precision    recall  f1-score   support\n",
      "\n",
      "           0       0.96      0.96      0.96       157\n",
      "           1       0.78      0.78      0.78        32\n",
      "\n",
      "    accuracy                           0.93       189\n",
      "   macro avg       0.87      0.87      0.87       189\n",
      "weighted avg       0.93      0.93      0.93       189\n",
      "\n",
      "SKFold : 82.01% \n",
      "\n",
      "SKFold-Smote : 93.65% \n",
      "----------------------------------------------------------------------\n",
      "\n",
      "\n",
      "SVC :-\n",
      "\n",
      "\n",
      "%split : 83.07% \n",
      "\n",
      "%split-Smote : 85.89% \n",
      "\n",
      "Before and After Resampling \n",
      "\n",
      "              precision    recall  f1-score   support\n",
      "\n",
      "           0       1.00      0.83      0.91       189\n",
      "           1       0.00      0.00      0.00         0\n",
      "\n",
      "    accuracy                           0.83       189\n",
      "   macro avg       0.50      0.42      0.45       189\n",
      "weighted avg       1.00      0.83      0.91       189\n",
      "\n",
      "              precision    recall  f1-score   support\n",
      "\n",
      "           0       0.77      0.97      0.86       125\n",
      "           1       0.88      0.44      0.58        64\n",
      "\n",
      "    accuracy                           0.79       189\n",
      "   macro avg       0.82      0.70      0.72       189\n",
      "weighted avg       0.81      0.79      0.77       189\n",
      "\n",
      "SKFold : 83.07% \n",
      "\n",
      "SKFold-Smote : 77.25% \n",
      "----------------------------------------------------------------------\n",
      "\n",
      "\n",
      "DecisionTreeClassifier :-\n",
      "\n",
      "\n",
      "%split : 80.95% \n",
      "\n",
      "%split-Smote : 98.67% \n",
      "\n",
      "Before and After Resampling \n",
      "\n",
      "              precision    recall  f1-score   support\n",
      "\n",
      "           0       0.91      0.87      0.89       165\n",
      "           1       0.31      0.42      0.36        24\n",
      "\n",
      "    accuracy                           0.81       189\n",
      "   macro avg       0.61      0.64      0.62       189\n",
      "weighted avg       0.83      0.81      0.82       189\n",
      "\n"
     ]
    },
    {
     "name": "stderr",
     "output_type": "stream",
     "text": [
      "C:\\Users\\pratik\\Anaconda3\\lib\\site-packages\\sklearn\\metrics\\_classification.py:1272: UndefinedMetricWarning: Recall and F-score are ill-defined and being set to 0.0 in labels with no true samples. Use `zero_division` parameter to control this behavior.\n",
      "  _warn_prf(average, modifier, msg_start, len(result))\n",
      "C:\\Users\\pratik\\Anaconda3\\lib\\site-packages\\sklearn\\metrics\\_classification.py:1272: UndefinedMetricWarning: Recall and F-score are ill-defined and being set to 0.0 in labels with no true samples. Use `zero_division` parameter to control this behavior.\n",
      "  _warn_prf(average, modifier, msg_start, len(result))\n",
      "C:\\Users\\pratik\\Anaconda3\\lib\\site-packages\\sklearn\\metrics\\_classification.py:1272: UndefinedMetricWarning: Recall and F-score are ill-defined and being set to 0.0 in labels with no true samples. Use `zero_division` parameter to control this behavior.\n",
      "  _warn_prf(average, modifier, msg_start, len(result))\n"
     ]
    },
    {
     "name": "stdout",
     "output_type": "stream",
     "text": [
      "              precision    recall  f1-score   support\n",
      "\n",
      "           0       0.96      0.95      0.96       159\n",
      "           1       0.75      0.80      0.77        30\n",
      "\n",
      "    accuracy                           0.93       189\n",
      "   macro avg       0.86      0.87      0.86       189\n",
      "weighted avg       0.93      0.93      0.93       189\n",
      "\n",
      "SKFold : 81.31% \n",
      "\n",
      "SKFold-Smote : 93.47% \n",
      "----------------------------------------------------------------------\n",
      "\n",
      "\n",
      "KNeighborsClassifier :-\n",
      "\n",
      "\n",
      "%split : 80.42% \n",
      "\n",
      "%split-Smote : 98.47% \n",
      "\n",
      "Before and After Resampling \n",
      "\n",
      "              precision    recall  f1-score   support\n",
      "\n",
      "           0       0.89      0.88      0.88       158\n",
      "           1       0.41      0.42      0.41        31\n",
      "\n",
      "    accuracy                           0.80       189\n",
      "   macro avg       0.65      0.65      0.65       189\n",
      "weighted avg       0.81      0.80      0.81       189\n",
      "\n",
      "              precision    recall  f1-score   support\n",
      "\n",
      "           0       0.94      0.95      0.94       155\n",
      "           1       0.75      0.71      0.73        34\n",
      "\n",
      "    accuracy                           0.90       189\n",
      "   macro avg       0.84      0.83      0.83       189\n",
      "weighted avg       0.90      0.90      0.90       189\n",
      "\n",
      "SKFold : 80.42% \n",
      "\n",
      "SKFold-Smote : 92.42% \n",
      "----------------------------------------------------------------------\n",
      "\n",
      "\n"
     ]
    }
   ],
   "source": [
    "# models\n",
    "logreg = LogisticRegression()\n",
    "rf=RandomForestClassifier(n_estimators=1000)\n",
    "svm=SVC()\n",
    "dtree=DecisionTreeClassifier()\n",
    "knn =KNeighborsClassifier(n_neighbors=1)\n",
    "\n",
    "# lists\n",
    "score_logreg=[]\n",
    "score_logreg_smote=[]\n",
    "score_rf=[]\n",
    "score_rf_smote=[]\n",
    "score_svm=[]\n",
    "score_svm_smote=[]\n",
    "score_dtree=[]\n",
    "score_dtree_smote=[]\n",
    "score_knn=[]\n",
    "score_knn_smote=[]\n",
    "print('ACCURACY SCORES \\n\\n')\n",
    "print('Logistic Regression :-\\n\\n')\n",
    "Accuracy_scores(logreg, score_logreg, score_logreg_smote)\n",
    "print('RandomForestClassifier :-\\n\\n')\n",
    "Accuracy_scores(rf, score_rf, score_rf_smote)\n",
    "print('SVC :-\\n\\n')\n",
    "Accuracy_scores(svm, score_svm, score_svm_smote)\n",
    "print('DecisionTreeClassifier :-\\n\\n')\n",
    "Accuracy_scores(dtree, score_dtree, score_dtree_smote)\n",
    "print('KNeighborsClassifier :-\\n\\n')\n",
    "Accuracy_scores(knn, score_knn, score_knn_smote)"
   ]
  },
  {
   "cell_type": "code",
   "execution_count": 30,
   "metadata": {},
   "outputs": [],
   "source": [
    "skf= StratifiedKFold(n_splits=3, random_state=5, shuffle=True)\n",
    "def Accuracy_scores(model, score_model, score_model_smote):\n",
    "    model.fit(X_train, y_train)\n",
    "    print('%split : {:.2f}% \\n'.format(model.score(X_test, y_test)*100))\n",
    "    \n",
    "    model.fit(smote_x_train, smote_y_train)    \n",
    "    print('%split-Smote : {:.2f}% \\n'.format(model.score(smote_x_train, smote_y_train)*100))\n",
    "    \n",
    "    #Splitting the data into training and testing data and scaling it using StratifiedKFold\n",
    "    for train_index, test_index in skf.split(X,y):\n",
    "        X_train1, X_test1 = X.loc[train_index], X.loc[test_index]\n",
    "        y_train1, y_test1 =y.loc[train_index], y.loc[test_index]\n",
    "        model.fit(X_train, y_train)\n",
    "        nor_preds = model.predict(X_test)\n",
    "        score_model.append(model.score(X_test, y_test))\n",
    "\n",
    "        smote_x_train1, smote_y_train1 = sm.fit_sample(X_train1.astype('float'), y_train1)\n",
    "        model.fit(smote_x_train1, smote_y_train1)\n",
    "        smote_preds = model.predict(X_test)\n",
    "        score_model_smote.append(model.score(X_test, y_test))\n",
    "    print('Before and After Resampling \\n')\n",
    "    print(classification_report(nor_preds, y_test))\n",
    "    print(classification_report(smote_preds, y_test))\n",
    "    print('SKFold : {:.2f}% \\n'.format(statistics.mean(score_model)*100))\n",
    "    print('SKFold-Smote : {:.2f}% '.format(statistics.mean(score_model_smote)*100))    \n",
    "    print('----------------------------------------------------------------------')\n",
    "    print('\\n')"
   ]
  },
  {
   "cell_type": "code",
   "execution_count": null,
   "metadata": {},
   "outputs": [],
   "source": []
  }
 ],
 "metadata": {
  "kernelspec": {
   "display_name": "Python 3",
   "language": "python",
   "name": "python3"
  },
  "language_info": {
   "codemirror_mode": {
    "name": "ipython",
    "version": 3
   },
   "file_extension": ".py",
   "mimetype": "text/x-python",
   "name": "python",
   "nbconvert_exporter": "python",
   "pygments_lexer": "ipython3",
   "version": "3.7.0"
  }
 },
 "nbformat": 4,
 "nbformat_minor": 2
}
